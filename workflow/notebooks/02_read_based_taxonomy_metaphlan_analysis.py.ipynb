{
 "cells": [
  {
   "cell_type": "code",
   "execution_count": 35,
   "metadata": {},
   "outputs": [],
   "source": [
    "import pandas as pd\n",
    "from plotnine import *\n",
    "\n",
    "# read metaphlan data\n",
    "metaphlan_data = pd.read_csv('/home/carsonjm/CarsonJM/HoffLab_MGX/02_READ_BASED_TAXONOMY/metaphlan_combined_profiles.txt', header=1, sep='\\t')\n",
    "\n",
    "# format metaphlan data for plotting phyla\n",
    "metaphlan_phyla = metaphlan_data[metaphlan_data['clade_name'].str.count('\\|') == 1]\n",
    "metaphlan_phyla['phylum'] = metaphlan_phyla['clade_name'].str.split('p__', expand=True)[1]\n",
    "metaphlan_phyla_melt = metaphlan_phyla.melt(id_vars=['phylum'], value_vars=metaphlan_phyla.columns[2:-1])\n",
    "\n",
    "# plot phylum abundances\n",
    "phylum_barplot = (\n",
    "    ggplot(metaphlan_phyla_melt)\n",
    "    + geom_bar(aes(x='variable', y='value', fill='phylum'), stat='identity')\n",
    "    + theme(figure_size=(16, 8)) \n",
    "    + labs(title='Relative abundance of each phylum')\n",
    "    + ylab(\"Phylum relative abundance\")\n",
    "    + xlab(\"Sample\")\n",
    ")\n",
    "\n",
    "# save figure to file\n",
    "phylum_barplot.save(str(snakemake.output), dpi=600)"
   ]
  }
 ],
 "metadata": {
  "interpreter": {
   "hash": "5b5d16e44d88e4922d84b5272441e775090877eee7799512346262eca3710381"
  },
  "kernelspec": {
   "display_name": "Python 3.9.5 ('base')",
   "language": "python",
   "name": "python3"
  },
  "language_info": {
   "codemirror_mode": {
    "name": "ipython",
    "version": 3
   },
   "file_extension": ".py",
   "mimetype": "text/x-python",
   "name": "python",
   "nbconvert_exporter": "python",
   "pygments_lexer": "ipython3",
   "version": "3.9.5"
  },
  "orig_nbformat": 4
 },
 "nbformat": 4,
 "nbformat_minor": 2
}
