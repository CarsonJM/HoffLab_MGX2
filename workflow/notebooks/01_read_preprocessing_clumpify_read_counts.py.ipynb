{
 "cells": [
  {
   "cell_type": "code",
   "execution_count": null,
   "metadata": {},
   "outputs": [],
   "source": [
    "import pandas as pd\n",
    "\n",
    "# create list to store information\n",
    "sample = []\n",
    "raw_reads = []\n",
    "\n",
    "# iterate through each file in snakemake input\n",
    "for log in snakemake.input:\n",
    "    # read from log file\n",
    "    read_log = open(str(log), 'r')\n",
    "    lines = read_log.readlines()\n",
    "\n",
    "    # save file name as sample\n",
    "    relative_path = log.rpartition('/')[2]\n",
    "    sample.append(relative_path.split('.log')[0])\n",
    "\n",
    "    # save read count information\n",
    "    for line in lines:\n",
    "        if 'Reads In:' in line:\n",
    "            line_strip = line.strip()\n",
    "            reads_in_count = line_strip.split()[2]\n",
    "            raw_reads.append(int(reads_in_count)/2)\n",
    "            continue\n",
    "\n",
    "# create pandas df of data and save as tsv\n",
    "clumpify_read_counts_df = pd.DataFrame(data={'Sample':sample, 'raw reads': raw_reads})\n",
    "clumpify_read_counts_df.to_csv(str(snakemake.output), sep='\\t', index=False)"
   ]
  }
 ],
 "metadata": {
  "language_info": {
   "name": "python"
  },
  "orig_nbformat": 4
 },
 "nbformat": 4,
 "nbformat_minor": 2
}
