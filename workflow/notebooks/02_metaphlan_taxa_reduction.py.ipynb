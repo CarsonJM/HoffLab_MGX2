{
 "cells": [
  {
   "cell_type": "code",
   "execution_count": null,
   "metadata": {},
   "outputs": [],
   "source": [
    "import pandas as pd\n",
    "\n",
    "# read metaphlan data\n",
    "metaphlan_data = pd.read_csv(str(snakemake.input), header=1, sep='\\t')\n",
    "\n",
    "# format metaphlan data for plotting kingdom\n",
    "def format_taxon_level(metaphlan_profile, taxonomic_level, output, number, delimiter):\n",
    "    level_filtered = metaphlan_profile[metaphlan_profile['clade_name'].str.count('\\|') == number]\n",
    "    level_filtered[taxonomic_level] = level_filtered['clade_name'].str.split(delimiter, expand=True)[1]\n",
    "    column = level_filtered[taxonomic_level]\n",
    "    level_filtered.drop(taxonomic_level, inplace=True, axis=1)\n",
    "    level_filtered.insert(loc=0, column=taxonomic_level, value=column)\n",
    "    level_filtered.to_csv(output, sep='\\t', index=False)\n",
    "\n",
    "metaphlan_kingdom = format_taxon_level(metaphlan_data, 'kingdom', str(snakemake.output.kingdom), 0, 'k__')\n",
    "metaphlan_phylum = format_taxon_level(metaphlan_data, 'phylum', str(snakemake.output.phylum), 1, 'p__')\n",
    "metaphlan_class = format_taxon_level(metaphlan_data, 'class', str(snakemake.output.class_df), 2, 'c__')\n",
    "metaphlan_order = format_taxon_level(metaphlan_data, 'order', str(snakemake.output.order), 3, 'o__')\n",
    "metaphlan_family = format_taxon_level(metaphlan_data, 'family', str(snakemake.output.family), 4, 'f__')\n",
    "metaphlan_genus = format_taxon_level(metaphlan_data, 'genus', str(snakemake.output.genus), 5, 'g__')\n",
    "metaphlan_species = format_taxon_level(metaphlan_data, 'species', str(snakemake.output.species), 6, 's__')"
   ]
  }
 ],
 "metadata": {
  "kernelspec": {
   "display_name": "Python 3.6.8 64-bit",
   "language": "python",
   "name": "python3"
  },
  "language_info": {
   "name": "python",
   "version": "3.6.8"
  },
  "orig_nbformat": 4,
  "vscode": {
   "interpreter": {
    "hash": "916dbcbb3f70747c44a77c7bcd40155683ae19c65e1c03b4aa3499c5328201f1"
   }
  }
 },
 "nbformat": 4,
 "nbformat_minor": 2
}
