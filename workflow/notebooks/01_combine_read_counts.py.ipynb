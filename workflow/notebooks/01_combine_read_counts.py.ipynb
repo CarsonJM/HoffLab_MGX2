{
 "cells": [
  {
   "cell_type": "code",
   "execution_count": null,
   "metadata": {},
   "outputs": [],
   "source": [
    "import pandas as pd\n",
    "\n",
    "# read kneaddata read count data\n",
    "kneaddata_read_counts = pd.read_csv(str(snakemake.input.kneaddata), sep='\\t')\n",
    "\n",
    "# incorporate clumpify read counts\n",
    "clumpify_read_counts = pd.read_csv(str(snakemake.input.clumpify), sep='\\t')\n",
    "read_counts = clumpify_read_counts.merge(kneaddata_read_counts, on='Sample', how='right')\n",
    "read_counts.rename(columns={'raw pair1': 'deduplicated pair1', 'raw pair2': 'deduplicated pair2', 'raw reads':'raw pair1'}, inplace=True)\n",
    "\n",
    "# save combined read counts file\n",
    "read_counts.to_csv(str(snakemake.output), index=False, sep='\\t')"
   ]
  }
 ],
 "metadata": {
  "kernelspec": {
   "display_name": "Python 3.6.8 64-bit",
   "language": "python",
   "name": "python3"
  },
  "language_info": {
   "name": "python",
   "version": "3.6.8"
  },
  "orig_nbformat": 4,
  "vscode": {
   "interpreter": {
    "hash": "916dbcbb3f70747c44a77c7bcd40155683ae19c65e1c03b4aa3499c5328201f1"
   }
  }
 },
 "nbformat": 4,
 "nbformat_minor": 2
}
