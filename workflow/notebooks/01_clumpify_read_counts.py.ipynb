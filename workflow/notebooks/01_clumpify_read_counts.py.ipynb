{
 "cells": [
  {
   "cell_type": "code",
   "execution_count": null,
   "metadata": {},
   "outputs": [],
   "source": [
    "import pandas as pd\n",
    "\n",
    "# create list to store information\n",
    "sample = []\n",
    "raw_reads = []\n",
    "\n",
    "# iterate through each file in snakemake input\n",
    "for log in snakemake.input:\n",
    "    # read from log file\n",
    "    read_log = open(str(log), 'r')\n",
    "    lines = read_log.readlines()\n",
    "\n",
    "    # save file name as sample\n",
    "    relative_path = log.rpartition('/')[2]\n",
    "    sample.append(relative_path.split('.log')[0])\n",
    "\n",
    "    # save read count information\n",
    "    for line in lines:\n",
    "        if 'Reads In:' in line:\n",
    "            line_strip = line.strip()\n",
    "            reads_in_count = line_strip.split()[2]\n",
    "            raw_reads.append(int(reads_in_count)/2)\n",
    "            continue\n",
    "\n",
    "# create pandas df of data and save as tsv\n",
    "clumpify_read_counts_df = pd.DataFrame(data={'Sample':sample, 'raw reads': raw_reads})\n",
    "clumpify_read_counts_df.to_csv(str(snakemake.output), sep='\\t', index=False)"
   ]
  }
 ],
 "metadata": {
  "kernelspec": {
   "display_name": "Python 3.6.8 64-bit",
   "language": "python",
   "name": "python3"
  },
  "language_info": {
   "name": "python",
   "version": "3.6.8"
  },
  "orig_nbformat": 4,
  "vscode": {
   "interpreter": {
    "hash": "916dbcbb3f70747c44a77c7bcd40155683ae19c65e1c03b4aa3499c5328201f1"
   }
  }
 },
 "nbformat": 4,
 "nbformat_minor": 2
}
